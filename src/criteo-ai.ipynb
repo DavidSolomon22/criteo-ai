{
 "metadata": {
  "language_info": {
   "codemirror_mode": {
    "name": "ipython",
    "version": 3
   },
   "file_extension": ".py",
   "mimetype": "text/x-python",
   "name": "python",
   "nbconvert_exporter": "python",
   "pygments_lexer": "ipython3",
   "version": "3.7.3-final"
  },
  "orig_nbformat": 2,
  "kernelspec": {
   "name": "python3",
   "display_name": "Python 3",
   "language": "python"
  }
 },
 "nbformat": 4,
 "nbformat_minor": 2,
 "cells": [
  {
   "source": [
    "## Read dataset"
   ],
   "cell_type": "markdown",
   "metadata": {}
  },
  {
   "source": [
    "import pandas as pd\n",
    "\n",
    "pd.set_option('display.max_columns', None)\n",
    "\n",
    "column_headers = ['id', 'sale', 'sales_amount_in_euro', 'time_delay_for_conversion',\n",
    "                  'click_timestamp', 'nb_clicks_1week', 'product_price', 'product_age_group',\n",
    "                  'device_type', 'audience_id', 'product_gender', 'product_brand',\n",
    "                  'product_category1', 'product_category2', 'product_category3',\n",
    "                  'product_category4', 'product_category5', 'product_category6',\n",
    "                  'product_category7', 'product_country', 'product_id', 'product_title',\n",
    "                  'partner_id', 'user_id']\n",
    "\n",
    "clicks_df = pd.read_csv('../data/main-dataset/criteoCategorized.csv')\n",
    "clicks_df.head()\n"
   ],
   "cell_type": "code",
   "metadata": {},
   "execution_count": 1,
   "outputs": [
    {
     "output_type": "execute_result",
     "data": {
      "text/plain": [
       "   id   sale  sales_amount_in_euro  time_delay_for_conversion  \\\n",
       "0   0  False                  -1.0                         -1   \n",
       "1   1  False                  -1.0                         -1   \n",
       "2   2  False                  -1.0                         -1   \n",
       "3   3  False                  -1.0                         -1   \n",
       "4   4  False                  -1.0                         -1   \n",
       "\n",
       "       click_timestamp  nb_clicks_1week  product_price  product_age_group  \\\n",
       "0  2020-08-31 16:37:00               -1            0.0                  0   \n",
       "1  2020-09-01 01:54:44                0            0.0                  4   \n",
       "2  2020-08-31 16:49:28               -1            0.0                  0   \n",
       "3  2020-08-31 16:26:14               -1            0.0                  0   \n",
       "4  2020-08-31 20:20:45               -1            0.0                  0   \n",
       "\n",
       "   device_type  audience_id  product_gender  product_brand  prod_category1  \\\n",
       "0            3            0               0              0               0   \n",
       "1            7            0               2          13317               1   \n",
       "2            3            0               0              0               0   \n",
       "3            7        12657               0              0               0   \n",
       "4            3            0               0              0               0   \n",
       "\n",
       "   prod_category2  prod_category3  prod_category4  prod_category5  \\\n",
       "0               0               0               0               0   \n",
       "1             105               0               0               0   \n",
       "2               0               0               0               0   \n",
       "3               0               0               0               0   \n",
       "4               0               0               0               0   \n",
       "\n",
       "   prod_category6  prod_category7  product_country  product_id  product_title  \\\n",
       "0               0               0                8     1058198              0   \n",
       "1               0               0                8      486749         188114   \n",
       "2               0               0                0           0              0   \n",
       "3               0               0                0           0              0   \n",
       "4               0               0                8      606352              0   \n",
       "\n",
       "   partner_id   user_id  \n",
       "0         277   3924600  \n",
       "1         230  11188022  \n",
       "2         245  12458754  \n",
       "3          85   8086037  \n",
       "4         277   6010702  "
      ],
      "text/html": "<div>\n<style scoped>\n    .dataframe tbody tr th:only-of-type {\n        vertical-align: middle;\n    }\n\n    .dataframe tbody tr th {\n        vertical-align: top;\n    }\n\n    .dataframe thead th {\n        text-align: right;\n    }\n</style>\n<table border=\"1\" class=\"dataframe\">\n  <thead>\n    <tr style=\"text-align: right;\">\n      <th></th>\n      <th>id</th>\n      <th>sale</th>\n      <th>sales_amount_in_euro</th>\n      <th>time_delay_for_conversion</th>\n      <th>click_timestamp</th>\n      <th>nb_clicks_1week</th>\n      <th>product_price</th>\n      <th>product_age_group</th>\n      <th>device_type</th>\n      <th>audience_id</th>\n      <th>product_gender</th>\n      <th>product_brand</th>\n      <th>prod_category1</th>\n      <th>prod_category2</th>\n      <th>prod_category3</th>\n      <th>prod_category4</th>\n      <th>prod_category5</th>\n      <th>prod_category6</th>\n      <th>prod_category7</th>\n      <th>product_country</th>\n      <th>product_id</th>\n      <th>product_title</th>\n      <th>partner_id</th>\n      <th>user_id</th>\n    </tr>\n  </thead>\n  <tbody>\n    <tr>\n      <th>0</th>\n      <td>0</td>\n      <td>False</td>\n      <td>-1.0</td>\n      <td>-1</td>\n      <td>2020-08-31 16:37:00</td>\n      <td>-1</td>\n      <td>0.0</td>\n      <td>0</td>\n      <td>3</td>\n      <td>0</td>\n      <td>0</td>\n      <td>0</td>\n      <td>0</td>\n      <td>0</td>\n      <td>0</td>\n      <td>0</td>\n      <td>0</td>\n      <td>0</td>\n      <td>0</td>\n      <td>8</td>\n      <td>1058198</td>\n      <td>0</td>\n      <td>277</td>\n      <td>3924600</td>\n    </tr>\n    <tr>\n      <th>1</th>\n      <td>1</td>\n      <td>False</td>\n      <td>-1.0</td>\n      <td>-1</td>\n      <td>2020-09-01 01:54:44</td>\n      <td>0</td>\n      <td>0.0</td>\n      <td>4</td>\n      <td>7</td>\n      <td>0</td>\n      <td>2</td>\n      <td>13317</td>\n      <td>1</td>\n      <td>105</td>\n      <td>0</td>\n      <td>0</td>\n      <td>0</td>\n      <td>0</td>\n      <td>0</td>\n      <td>8</td>\n      <td>486749</td>\n      <td>188114</td>\n      <td>230</td>\n      <td>11188022</td>\n    </tr>\n    <tr>\n      <th>2</th>\n      <td>2</td>\n      <td>False</td>\n      <td>-1.0</td>\n      <td>-1</td>\n      <td>2020-08-31 16:49:28</td>\n      <td>-1</td>\n      <td>0.0</td>\n      <td>0</td>\n      <td>3</td>\n      <td>0</td>\n      <td>0</td>\n      <td>0</td>\n      <td>0</td>\n      <td>0</td>\n      <td>0</td>\n      <td>0</td>\n      <td>0</td>\n      <td>0</td>\n      <td>0</td>\n      <td>0</td>\n      <td>0</td>\n      <td>0</td>\n      <td>245</td>\n      <td>12458754</td>\n    </tr>\n    <tr>\n      <th>3</th>\n      <td>3</td>\n      <td>False</td>\n      <td>-1.0</td>\n      <td>-1</td>\n      <td>2020-08-31 16:26:14</td>\n      <td>-1</td>\n      <td>0.0</td>\n      <td>0</td>\n      <td>7</td>\n      <td>12657</td>\n      <td>0</td>\n      <td>0</td>\n      <td>0</td>\n      <td>0</td>\n      <td>0</td>\n      <td>0</td>\n      <td>0</td>\n      <td>0</td>\n      <td>0</td>\n      <td>0</td>\n      <td>0</td>\n      <td>0</td>\n      <td>85</td>\n      <td>8086037</td>\n    </tr>\n    <tr>\n      <th>4</th>\n      <td>4</td>\n      <td>False</td>\n      <td>-1.0</td>\n      <td>-1</td>\n      <td>2020-08-31 20:20:45</td>\n      <td>-1</td>\n      <td>0.0</td>\n      <td>0</td>\n      <td>3</td>\n      <td>0</td>\n      <td>0</td>\n      <td>0</td>\n      <td>0</td>\n      <td>0</td>\n      <td>0</td>\n      <td>0</td>\n      <td>0</td>\n      <td>0</td>\n      <td>0</td>\n      <td>8</td>\n      <td>606352</td>\n      <td>0</td>\n      <td>277</td>\n      <td>6010702</td>\n    </tr>\n  </tbody>\n</table>\n</div>"
     },
     "metadata": {},
     "execution_count": 1
    }
   ]
  },
  {
   "source": [
    "## Group, sort and save splitted dataset"
   ],
   "cell_type": "markdown",
   "metadata": {}
  },
  {
   "cell_type": "code",
   "execution_count": 15,
   "metadata": {
    "tags": []
   },
   "outputs": [],
   "source": [
    "partner_dfs = clicks_df.groupby('partner_id')\n",
    "\n",
    "for partner_id, df in partner_dfs:\n",
    "    sorted_df = df.sort_values('click_timestamp', ascending=True)\n",
    "    filename = f'../data/partners-datasets/partner-clicks-{partner_id}'\n",
    "    sorted_df.to_csv(filename)"
   ]
  }
 ]
}